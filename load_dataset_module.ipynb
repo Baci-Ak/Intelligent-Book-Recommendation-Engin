{
 "cells": [
  {
   "cell_type": "code",
   "execution_count": null,
   "id": "b58f1d8b",
   "metadata": {},
   "outputs": [],
   "source": []
  },
  {
   "cell_type": "code",
   "execution_count": null,
   "id": "68d1a240",
   "metadata": {},
   "outputs": [],
   "source": []
  },
  {
   "cell_type": "code",
   "execution_count": 4,
   "id": "8d494d40",
   "metadata": {},
   "outputs": [],
   "source": [
    "def loadBooks():\n",
    "    try:\n",
    "        Books = {}\n",
    "        file = open('Books.csv', encoding =\"ISO-8859-1\")\n",
    "        next(file)\n",
    "        for line in file:\n",
    "            line = line.replace('\"', '')\n",
    "            (Id, Booktitle) = line.split(';')[0:2]\n",
    "            Books.setdefault(Id, {})\n",
    "            Books[Id] = Booktitle\n",
    "        return Books\n",
    "    #handling exceptions:\n",
    "    except FileNotFoundError:\n",
    "        print('the file you are trying to read is not in this working directory OR cannot be found')\n",
    "    except OSError as err:\n",
    "        print(\"OS error: {0}\".format(err))\n",
    "    except NameError:\n",
    "        print('there is a name in the function that is not defined, please check to fix this')\n",
    "    except:\n",
    "        print(\"Some other exception happened.\")\n",
    "        \n",
    "        \n",
    "        \n",
    "\n"
   ]
  },
  {
   "cell_type": "code",
   "execution_count": null,
   "id": "bb328fc8",
   "metadata": {},
   "outputs": [],
   "source": []
  },
  {
   "cell_type": "code",
   "execution_count": null,
   "id": "5b062955",
   "metadata": {},
   "outputs": [],
   "source": []
  },
  {
   "cell_type": "markdown",
   "id": "fc2740de",
   "metadata": {},
   "source": [
    "# Loading the users preference Data"
   ]
  },
  {
   "cell_type": "code",
   "execution_count": 5,
   "id": "47dac8c6",
   "metadata": {},
   "outputs": [],
   "source": [
    "def User_preference():\n",
    "    try:\n",
    "        user_preference = {}\n",
    "        f = open('Book-Ratings.csv', encoding =\"ISO-8859-1\")\n",
    "        next(f)\n",
    "        for line in f:\n",
    "            line = line.replace('\"', '')\n",
    "            (userId, bookid, rating) = line.strip('\\n').split(';')\n",
    "            user_preference.setdefault(userId, {})\n",
    "            user_preference[userId][bookid] = float(rating)\n",
    "        return user_preference\n",
    "    \n",
    "    #handling exceptions:\n",
    "    except FileNotFoundError:\n",
    "        print('the file you are trying to read is not in this working directory OR cannot be found')\n",
    "    except OSError as err:\n",
    "        print(\"OS error: {0}\".format(err))\n",
    "    except NameError:\n",
    "        print('there is a name in the function that is not defined, please check to fix this')\n",
    "    #except:\n",
    "        #print(\"Some other exception happened.\")\n",
    "\n"
   ]
  },
  {
   "cell_type": "code",
   "execution_count": null,
   "id": "963d490a",
   "metadata": {},
   "outputs": [],
   "source": []
  },
  {
   "cell_type": "code",
   "execution_count": null,
   "id": "9c19e755",
   "metadata": {},
   "outputs": [],
   "source": []
  },
  {
   "cell_type": "markdown",
   "id": "79db609a",
   "metadata": {},
   "source": [
    "# Rearranging the dictionary to have books ISBN as keys so its possible to find books similarities"
   ]
  },
  {
   "cell_type": "code",
   "execution_count": 6,
   "id": "59659297",
   "metadata": {},
   "outputs": [],
   "source": [
    "def Book_preference():\n",
    "    try:\n",
    "        book_prefs = {}\n",
    "        f = open('Book-Ratings.csv', encoding =\"ISO-8859-1\")\n",
    "        next(f)\n",
    "        for line in f:\n",
    "            line = line.replace('\"', '')\n",
    "            (userId, bookid, rating) = line.strip('\\n').split(';')\n",
    "            book_prefs.setdefault(bookid, {})\n",
    "            book_prefs[bookid][userId] = float(rating)\n",
    "        return book_prefs\n",
    "    \n",
    "    #handling exceptions:\n",
    "    except FileNotFoundError:\n",
    "        print('the file you are trying to read is not in this working directory OR cannot be found')\n",
    "    except OSError as err:\n",
    "        print(\"OS error: {0}\".format(err))\n",
    "    except NameError:\n",
    "        print('there is a name in the function that is not defined, please check to fix this')\n",
    "    except:\n",
    "        print(\"Some other exception happened.\")\n",
    "        \n"
   ]
  },
  {
   "cell_type": "code",
   "execution_count": null,
   "id": "950bc6c4",
   "metadata": {},
   "outputs": [],
   "source": []
  },
  {
   "cell_type": "code",
   "execution_count": null,
   "id": "9149dbd1",
   "metadata": {},
   "outputs": [],
   "source": []
  }
 ],
 "metadata": {
  "kernelspec": {
   "display_name": "Python 3 (ipykernel)",
   "language": "python",
   "name": "python3"
  },
  "language_info": {
   "codemirror_mode": {
    "name": "ipython",
    "version": 3
   },
   "file_extension": ".py",
   "mimetype": "text/x-python",
   "name": "python",
   "nbconvert_exporter": "python",
   "pygments_lexer": "ipython3",
   "version": "3.11.3"
  }
 },
 "nbformat": 4,
 "nbformat_minor": 5
}
